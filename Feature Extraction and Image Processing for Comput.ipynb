{
 "cells": [
  {
   "cell_type": "code",
   "execution_count": 1,
   "id": "5f5d5ee5",
   "metadata": {
    "_cell_guid": "b1076dfc-b9ad-4769-8c92-a6c4dae69d19",
    "_uuid": "8f2839f25d086af736a60e9eeb907d3b93b6e0e5",
    "execution": {
     "iopub.execute_input": "2025-01-09T18:40:08.738038Z",
     "iopub.status.busy": "2025-01-09T18:40:08.737795Z",
     "iopub.status.idle": "2025-01-09T18:40:27.565916Z",
     "shell.execute_reply": "2025-01-09T18:40:27.565230Z"
    },
    "papermill": {
     "duration": 18.834897,
     "end_time": "2025-01-09T18:40:27.567513",
     "exception": false,
     "start_time": "2025-01-09T18:40:08.732616",
     "status": "completed"
    },
    "tags": []
   },
   "outputs": [],
   "source": [
    "import numpy as np\n",
    "import cv2\n",
    "import os\n",
    "from sklearn.ensemble import RandomForestClassifier\n",
    "from sklearn.model_selection import train_test_split\n",
    "from sklearn.metrics import accuracy_score\n",
    "from sklearn.decomposition import PCA\n",
    "from tensorflow.keras.applications import VGG19\n",
    "from tensorflow.keras.applications.vgg19 import preprocess_input\n",
    "from tensorflow.keras.preprocessing.image import img_to_array, load_img\n",
    "\n"
   ]
  },
  {
   "cell_type": "markdown",
   "id": "7518a70c",
   "metadata": {
    "papermill": {
     "duration": 0.003654,
     "end_time": "2025-01-09T18:40:27.575669",
     "exception": false,
     "start_time": "2025-01-09T18:40:27.572015",
     "status": "completed"
    },
    "tags": []
   },
   "source": [
    "# Load Caltech-101 dataset\n",
    "# Adjust the path to your dataset directory"
   ]
  },
  {
   "cell_type": "code",
   "execution_count": 2,
   "id": "a208c437",
   "metadata": {
    "execution": {
     "iopub.execute_input": "2025-01-09T18:40:27.584283Z",
     "iopub.status.busy": "2025-01-09T18:40:27.583830Z",
     "iopub.status.idle": "2025-01-09T18:40:27.587151Z",
     "shell.execute_reply": "2025-01-09T18:40:27.586389Z"
    },
    "papermill": {
     "duration": 0.008985,
     "end_time": "2025-01-09T18:40:27.588469",
     "exception": false,
     "start_time": "2025-01-09T18:40:27.579484",
     "status": "completed"
    },
    "tags": []
   },
   "outputs": [],
   "source": [
    "\n",
    "DATASET_PATH = \"/kaggle/input/caltech-101/caltech-101\"\n",
    "\n"
   ]
  },
  {
   "cell_type": "markdown",
   "id": "f7643574",
   "metadata": {
    "papermill": {
     "duration": 0.003544,
     "end_time": "2025-01-09T18:40:27.595751",
     "exception": false,
     "start_time": "2025-01-09T18:40:27.592207",
     "status": "completed"
    },
    "tags": []
   },
   "source": [
    "# Define categories (folders in the dataset)"
   ]
  },
  {
   "cell_type": "code",
   "execution_count": 3,
   "id": "bc407b86",
   "metadata": {
    "execution": {
     "iopub.execute_input": "2025-01-09T18:40:27.604337Z",
     "iopub.status.busy": "2025-01-09T18:40:27.604111Z",
     "iopub.status.idle": "2025-01-09T18:40:27.753089Z",
     "shell.execute_reply": "2025-01-09T18:40:27.752324Z"
    },
    "papermill": {
     "duration": 0.154721,
     "end_time": "2025-01-09T18:40:27.754347",
     "exception": false,
     "start_time": "2025-01-09T18:40:27.599626",
     "status": "completed"
    },
    "tags": []
   },
   "outputs": [],
   "source": [
    "\n",
    "categories = [folder for folder in os.listdir(DATASET_PATH) if os.path.isdir(os.path.join(DATASET_PATH, folder))]\n",
    "\n"
   ]
  },
  {
   "cell_type": "markdown",
   "id": "4742a8dd",
   "metadata": {
    "papermill": {
     "duration": 0.003634,
     "end_time": "2025-01-09T18:40:27.761797",
     "exception": false,
     "start_time": "2025-01-09T18:40:27.758163",
     "status": "completed"
    },
    "tags": []
   },
   "source": [
    "# Parameters"
   ]
  },
  {
   "cell_type": "code",
   "execution_count": 4,
   "id": "e363ca44",
   "metadata": {
    "execution": {
     "iopub.execute_input": "2025-01-09T18:40:27.769942Z",
     "iopub.status.busy": "2025-01-09T18:40:27.769744Z",
     "iopub.status.idle": "2025-01-09T18:40:27.772496Z",
     "shell.execute_reply": "2025-01-09T18:40:27.771903Z"
    },
    "papermill": {
     "duration": 0.008214,
     "end_time": "2025-01-09T18:40:27.773680",
     "exception": false,
     "start_time": "2025-01-09T18:40:27.765466",
     "status": "completed"
    },
    "tags": []
   },
   "outputs": [],
   "source": [
    "\n",
    "IMAGE_SIZE = (224, 224)  # Required input size for VGG19\n",
    "n_pca_components = 100  # Number of PCA components\n",
    "\n"
   ]
  },
  {
   "cell_type": "markdown",
   "id": "26a02594",
   "metadata": {
    "papermill": {
     "duration": 0.003648,
     "end_time": "2025-01-09T18:40:27.781434",
     "exception": false,
     "start_time": "2025-01-09T18:40:27.777786",
     "status": "completed"
    },
    "tags": []
   },
   "source": [
    "# Handcrafted feature extractors"
   ]
  },
  {
   "cell_type": "code",
   "execution_count": 5,
   "id": "2b9258ad",
   "metadata": {
    "execution": {
     "iopub.execute_input": "2025-01-09T18:40:27.789795Z",
     "iopub.status.busy": "2025-01-09T18:40:27.789509Z",
     "iopub.status.idle": "2025-01-09T18:40:27.792591Z",
     "shell.execute_reply": "2025-01-09T18:40:27.792022Z"
    },
    "papermill": {
     "duration": 0.00848,
     "end_time": "2025-01-09T18:40:27.793639",
     "exception": false,
     "start_time": "2025-01-09T18:40:27.785159",
     "status": "completed"
    },
    "tags": []
   },
   "outputs": [],
   "source": [
    "\n",
    "def extract_sift_features(image):\n",
    "    gray = cv2.cvtColor(image, cv2.COLOR_BGR2GRAY)\n",
    "    sift = cv2.SIFT_create()\n",
    "    keypoints, descriptors = sift.detectAndCompute(gray, None)\n",
    "    return descriptors\n",
    "\n"
   ]
  },
  {
   "cell_type": "code",
   "execution_count": 6,
   "id": "a2bb59a2",
   "metadata": {
    "execution": {
     "iopub.execute_input": "2025-01-09T18:40:27.801675Z",
     "iopub.status.busy": "2025-01-09T18:40:27.801464Z",
     "iopub.status.idle": "2025-01-09T18:40:27.804751Z",
     "shell.execute_reply": "2025-01-09T18:40:27.804138Z"
    },
    "papermill": {
     "duration": 0.00855,
     "end_time": "2025-01-09T18:40:27.805856",
     "exception": false,
     "start_time": "2025-01-09T18:40:27.797306",
     "status": "completed"
    },
    "tags": []
   },
   "outputs": [],
   "source": [
    "def extract_surf_features(image):\n",
    "    gray = cv2.cvtColor(image, cv2.COLOR_BGR2GRAY)\n",
    "    surf = cv2.xfeatures2d.SURF_create()\n",
    "    keypoints, descriptors = surf.detectAndCompute(gray, None)\n",
    "    return descriptors\n",
    "\n"
   ]
  },
  {
   "cell_type": "code",
   "execution_count": 7,
   "id": "0e8df745",
   "metadata": {
    "execution": {
     "iopub.execute_input": "2025-01-09T18:40:27.814193Z",
     "iopub.status.busy": "2025-01-09T18:40:27.813997Z",
     "iopub.status.idle": "2025-01-09T18:40:27.817012Z",
     "shell.execute_reply": "2025-01-09T18:40:27.816465Z"
    },
    "papermill": {
     "duration": 0.008416,
     "end_time": "2025-01-09T18:40:27.818128",
     "exception": false,
     "start_time": "2025-01-09T18:40:27.809712",
     "status": "completed"
    },
    "tags": []
   },
   "outputs": [],
   "source": [
    "def extract_orb_features(image):\n",
    "    gray = cv2.cvtColor(image, cv2.COLOR_BGR2GRAY)\n",
    "    orb = cv2.ORB_create()\n",
    "    keypoints, descriptors = orb.detectAndCompute(gray, None)\n",
    "    return descriptors\n",
    "\n"
   ]
  },
  {
   "cell_type": "markdown",
   "id": "8078b948",
   "metadata": {
    "papermill": {
     "duration": 0.00354,
     "end_time": "2025-01-09T18:40:27.825419",
     "exception": false,
     "start_time": "2025-01-09T18:40:27.821879",
     "status": "completed"
    },
    "tags": []
   },
   "source": [
    "# Load and preprocess images"
   ]
  },
  {
   "cell_type": "code",
   "execution_count": 8,
   "id": "d1fcd670",
   "metadata": {
    "execution": {
     "iopub.execute_input": "2025-01-09T18:40:27.833636Z",
     "iopub.status.busy": "2025-01-09T18:40:27.833384Z",
     "iopub.status.idle": "2025-01-09T18:40:27.838973Z",
     "shell.execute_reply": "2025-01-09T18:40:27.838342Z"
    },
    "papermill": {
     "duration": 0.010852,
     "end_time": "2025-01-09T18:40:27.840024",
     "exception": false,
     "start_time": "2025-01-09T18:40:27.829172",
     "status": "completed"
    },
    "tags": []
   },
   "outputs": [],
   "source": [
    "\n",
    "def load_data():\n",
    "    X_deep, X_handcrafted, y = [], [], []\n",
    "    for idx, category in enumerate(categories):\n",
    "        category_path = os.path.join(DATASET_PATH, category)\n",
    "        for file in os.listdir(category_path):\n",
    "            file_path = os.path.join(category_path, file)\n",
    "            try:\n",
    "                # Load image for deep learning features\n",
    "                image = load_img(file_path, target_size=IMAGE_SIZE)\n",
    "                image_array = img_to_array(image)\n",
    "                image_array = preprocess_input(image_array)\n",
    "                X_deep.append(image_array)\n",
    "\n",
    "                # Load image for handcrafted features\n",
    "                original_image = cv2.imread(file_path)\n",
    "                sift_features = extract_sift_features(original_image)\n",
    "                orb_features = extract_orb_features(original_image)\n",
    "\n",
    "                # Combine handcrafted features (e.g., flatten and concatenate)\n",
    "                combined_features = np.hstack([\n",
    "                    np.mean(sift_features, axis=0) if sift_features is not None else np.zeros(128),\n",
    "                    np.mean(orb_features, axis=0) if orb_features is not None else np.zeros(32)\n",
    "                ])\n",
    "                X_handcrafted.append(combined_features)\n",
    "\n",
    "                y.append(idx)\n",
    "            except Exception as e:\n",
    "                print(f\"Error processing file {file_path}: {e}\")\n",
    "\n",
    "    return np.array(X_deep), np.array(X_handcrafted), np.array(y)\n",
    "\n"
   ]
  },
  {
   "cell_type": "markdown",
   "id": "9b3fe7a1",
   "metadata": {
    "papermill": {
     "duration": 0.004007,
     "end_time": "2025-01-09T18:40:27.847777",
     "exception": false,
     "start_time": "2025-01-09T18:40:27.843770",
     "status": "completed"
    },
    "tags": []
   },
   "source": [
    "# Load data"
   ]
  },
  {
   "cell_type": "code",
   "execution_count": 9,
   "id": "3c727b38",
   "metadata": {
    "execution": {
     "iopub.execute_input": "2025-01-09T18:40:27.855878Z",
     "iopub.status.busy": "2025-01-09T18:40:27.855683Z",
     "iopub.status.idle": "2025-01-09T18:46:48.648986Z",
     "shell.execute_reply": "2025-01-09T18:46:48.648232Z"
    },
    "papermill": {
     "duration": 380.799136,
     "end_time": "2025-01-09T18:46:48.650713",
     "exception": false,
     "start_time": "2025-01-09T18:40:27.851577",
     "status": "completed"
    },
    "tags": []
   },
   "outputs": [],
   "source": [
    "\n",
    "X_deep, X_handcrafted, y = load_data()\n",
    "\n"
   ]
  },
  {
   "cell_type": "markdown",
   "id": "bff2a7ce",
   "metadata": {
    "papermill": {
     "duration": 0.003691,
     "end_time": "2025-01-09T18:46:48.659072",
     "exception": false,
     "start_time": "2025-01-09T18:46:48.655381",
     "status": "completed"
    },
    "tags": []
   },
   "source": [
    "# Deep feature extraction using VGG19"
   ]
  },
  {
   "cell_type": "code",
   "execution_count": 10,
   "id": "0538f9c2",
   "metadata": {
    "execution": {
     "iopub.execute_input": "2025-01-09T18:46:48.667340Z",
     "iopub.status.busy": "2025-01-09T18:46:48.667103Z",
     "iopub.status.idle": "2025-01-09T18:48:08.758210Z",
     "shell.execute_reply": "2025-01-09T18:48:08.757229Z"
    },
    "papermill": {
     "duration": 80.097062,
     "end_time": "2025-01-09T18:48:08.759895",
     "exception": false,
     "start_time": "2025-01-09T18:46:48.662833",
     "status": "completed"
    },
    "tags": []
   },
   "outputs": [
    {
     "name": "stdout",
     "output_type": "stream",
     "text": [
      "Downloading data from https://storage.googleapis.com/tensorflow/keras-applications/vgg19/vgg19_weights_tf_dim_ordering_tf_kernels_notop.h5\n",
      "\u001b[1m80134624/80134624\u001b[0m \u001b[32m━━━━━━━━━━━━━━━━━━━━\u001b[0m\u001b[37m\u001b[0m \u001b[1m0s\u001b[0m 0us/step\n",
      "\u001b[1m286/286\u001b[0m \u001b[32m━━━━━━━━━━━━━━━━━━━━\u001b[0m\u001b[37m\u001b[0m \u001b[1m64s\u001b[0m 176ms/step\n"
     ]
    }
   ],
   "source": [
    "\n",
    "vgg19_model = VGG19(weights='imagenet', include_top=False, input_shape=(224, 224, 3))\n",
    "X_deep_features = vgg19_model.predict(X_deep)\n",
    "X_deep_features = X_deep_features.reshape(X_deep_features.shape[0], -1)  # Flatten\n",
    "\n"
   ]
  },
  {
   "cell_type": "markdown",
   "id": "afe8f394",
   "metadata": {
    "papermill": {
     "duration": 0.016644,
     "end_time": "2025-01-09T18:48:08.794171",
     "exception": false,
     "start_time": "2025-01-09T18:48:08.777527",
     "status": "completed"
    },
    "tags": []
   },
   "source": [
    "# Reduce dimensionality of handcrafted features usin"
   ]
  },
  {
   "cell_type": "code",
   "execution_count": 11,
   "id": "9c3974b1",
   "metadata": {
    "execution": {
     "iopub.execute_input": "2025-01-09T18:48:08.827847Z",
     "iopub.status.busy": "2025-01-09T18:48:08.827609Z",
     "iopub.status.idle": "2025-01-09T18:48:09.757739Z",
     "shell.execute_reply": "2025-01-09T18:48:09.756328Z"
    },
    "papermill": {
     "duration": 0.950666,
     "end_time": "2025-01-09T18:48:09.761330",
     "exception": false,
     "start_time": "2025-01-09T18:48:08.810664",
     "status": "completed"
    },
    "tags": []
   },
   "outputs": [],
   "source": [
    "# Reduce dimensionality of handcrafted features using PCA\n",
    "pca = PCA(n_components=n_pca_components)\n",
    "X_handcrafted_reduced = pca.fit_transform(X_handcrafted)\n",
    "\n"
   ]
  },
  {
   "cell_type": "markdown",
   "id": "9b6d69b7",
   "metadata": {
    "papermill": {
     "duration": 0.030558,
     "end_time": "2025-01-09T18:48:09.868659",
     "exception": false,
     "start_time": "2025-01-09T18:48:09.838101",
     "status": "completed"
    },
    "tags": []
   },
   "source": [
    "# Combine deep and handcrafted featur"
   ]
  },
  {
   "cell_type": "code",
   "execution_count": 12,
   "id": "481d6a3f",
   "metadata": {
    "execution": {
     "iopub.execute_input": "2025-01-09T18:48:09.904400Z",
     "iopub.status.busy": "2025-01-09T18:48:09.904118Z",
     "iopub.status.idle": "2025-01-09T18:48:10.377980Z",
     "shell.execute_reply": "2025-01-09T18:48:10.377238Z"
    },
    "papermill": {
     "duration": 0.492574,
     "end_time": "2025-01-09T18:48:10.379587",
     "exception": false,
     "start_time": "2025-01-09T18:48:09.887013",
     "status": "completed"
    },
    "tags": []
   },
   "outputs": [],
   "source": [
    "\n",
    "X_combined = np.hstack([X_deep_features, X_handcrafted_reduced])\n",
    "\n"
   ]
  },
  {
   "cell_type": "markdown",
   "id": "2158be93",
   "metadata": {
    "papermill": {
     "duration": 0.016772,
     "end_time": "2025-01-09T18:48:10.413612",
     "exception": false,
     "start_time": "2025-01-09T18:48:10.396840",
     "status": "completed"
    },
    "tags": []
   },
   "source": [
    "# Split data into training and testing sets"
   ]
  },
  {
   "cell_type": "code",
   "execution_count": 13,
   "id": "f24a162e",
   "metadata": {
    "execution": {
     "iopub.execute_input": "2025-01-09T18:48:10.448595Z",
     "iopub.status.busy": "2025-01-09T18:48:10.448274Z",
     "iopub.status.idle": "2025-01-09T18:48:10.821842Z",
     "shell.execute_reply": "2025-01-09T18:48:10.821112Z"
    },
    "papermill": {
     "duration": 0.392902,
     "end_time": "2025-01-09T18:48:10.823458",
     "exception": false,
     "start_time": "2025-01-09T18:48:10.430556",
     "status": "completed"
    },
    "tags": []
   },
   "outputs": [],
   "source": [
    "\n",
    "X_train, X_test, y_train, y_test = train_test_split(X_combined, y, test_size=0.2, random_state=42)\n",
    "\n"
   ]
  },
  {
   "cell_type": "markdown",
   "id": "d9f4a39e",
   "metadata": {
    "papermill": {
     "duration": 0.016175,
     "end_time": "2025-01-09T18:48:10.856765",
     "exception": false,
     "start_time": "2025-01-09T18:48:10.840590",
     "status": "completed"
    },
    "tags": []
   },
   "source": [
    "# Train a Random Forest classifier"
   ]
  },
  {
   "cell_type": "code",
   "execution_count": 14,
   "id": "66d5eb04",
   "metadata": {
    "execution": {
     "iopub.execute_input": "2025-01-09T18:48:10.893301Z",
     "iopub.status.busy": "2025-01-09T18:48:10.893043Z",
     "iopub.status.idle": "2025-01-09T18:49:59.193824Z",
     "shell.execute_reply": "2025-01-09T18:49:59.192880Z"
    },
    "papermill": {
     "duration": 108.338305,
     "end_time": "2025-01-09T18:49:59.211913",
     "exception": false,
     "start_time": "2025-01-09T18:48:10.873608",
     "status": "completed"
    },
    "tags": []
   },
   "outputs": [
    {
     "data": {
      "text/html": [
       "<style>#sk-container-id-1 {color: black;background-color: white;}#sk-container-id-1 pre{padding: 0;}#sk-container-id-1 div.sk-toggleable {background-color: white;}#sk-container-id-1 label.sk-toggleable__label {cursor: pointer;display: block;width: 100%;margin-bottom: 0;padding: 0.3em;box-sizing: border-box;text-align: center;}#sk-container-id-1 label.sk-toggleable__label-arrow:before {content: \"▸\";float: left;margin-right: 0.25em;color: #696969;}#sk-container-id-1 label.sk-toggleable__label-arrow:hover:before {color: black;}#sk-container-id-1 div.sk-estimator:hover label.sk-toggleable__label-arrow:before {color: black;}#sk-container-id-1 div.sk-toggleable__content {max-height: 0;max-width: 0;overflow: hidden;text-align: left;background-color: #f0f8ff;}#sk-container-id-1 div.sk-toggleable__content pre {margin: 0.2em;color: black;border-radius: 0.25em;background-color: #f0f8ff;}#sk-container-id-1 input.sk-toggleable__control:checked~div.sk-toggleable__content {max-height: 200px;max-width: 100%;overflow: auto;}#sk-container-id-1 input.sk-toggleable__control:checked~label.sk-toggleable__label-arrow:before {content: \"▾\";}#sk-container-id-1 div.sk-estimator input.sk-toggleable__control:checked~label.sk-toggleable__label {background-color: #d4ebff;}#sk-container-id-1 div.sk-label input.sk-toggleable__control:checked~label.sk-toggleable__label {background-color: #d4ebff;}#sk-container-id-1 input.sk-hidden--visually {border: 0;clip: rect(1px 1px 1px 1px);clip: rect(1px, 1px, 1px, 1px);height: 1px;margin: -1px;overflow: hidden;padding: 0;position: absolute;width: 1px;}#sk-container-id-1 div.sk-estimator {font-family: monospace;background-color: #f0f8ff;border: 1px dotted black;border-radius: 0.25em;box-sizing: border-box;margin-bottom: 0.5em;}#sk-container-id-1 div.sk-estimator:hover {background-color: #d4ebff;}#sk-container-id-1 div.sk-parallel-item::after {content: \"\";width: 100%;border-bottom: 1px solid gray;flex-grow: 1;}#sk-container-id-1 div.sk-label:hover label.sk-toggleable__label {background-color: #d4ebff;}#sk-container-id-1 div.sk-serial::before {content: \"\";position: absolute;border-left: 1px solid gray;box-sizing: border-box;top: 0;bottom: 0;left: 50%;z-index: 0;}#sk-container-id-1 div.sk-serial {display: flex;flex-direction: column;align-items: center;background-color: white;padding-right: 0.2em;padding-left: 0.2em;position: relative;}#sk-container-id-1 div.sk-item {position: relative;z-index: 1;}#sk-container-id-1 div.sk-parallel {display: flex;align-items: stretch;justify-content: center;background-color: white;position: relative;}#sk-container-id-1 div.sk-item::before, #sk-container-id-1 div.sk-parallel-item::before {content: \"\";position: absolute;border-left: 1px solid gray;box-sizing: border-box;top: 0;bottom: 0;left: 50%;z-index: -1;}#sk-container-id-1 div.sk-parallel-item {display: flex;flex-direction: column;z-index: 1;position: relative;background-color: white;}#sk-container-id-1 div.sk-parallel-item:first-child::after {align-self: flex-end;width: 50%;}#sk-container-id-1 div.sk-parallel-item:last-child::after {align-self: flex-start;width: 50%;}#sk-container-id-1 div.sk-parallel-item:only-child::after {width: 0;}#sk-container-id-1 div.sk-dashed-wrapped {border: 1px dashed gray;margin: 0 0.4em 0.5em 0.4em;box-sizing: border-box;padding-bottom: 0.4em;background-color: white;}#sk-container-id-1 div.sk-label label {font-family: monospace;font-weight: bold;display: inline-block;line-height: 1.2em;}#sk-container-id-1 div.sk-label-container {text-align: center;}#sk-container-id-1 div.sk-container {/* jupyter's `normalize.less` sets `[hidden] { display: none; }` but bootstrap.min.css set `[hidden] { display: none !important; }` so we also need the `!important` here to be able to override the default hidden behavior on the sphinx rendered scikit-learn.org. See: https://github.com/scikit-learn/scikit-learn/issues/21755 */display: inline-block !important;position: relative;}#sk-container-id-1 div.sk-text-repr-fallback {display: none;}</style><div id=\"sk-container-id-1\" class=\"sk-top-container\"><div class=\"sk-text-repr-fallback\"><pre>RandomForestClassifier(random_state=42)</pre><b>In a Jupyter environment, please rerun this cell to show the HTML representation or trust the notebook. <br />On GitHub, the HTML representation is unable to render, please try loading this page with nbviewer.org.</b></div><div class=\"sk-container\" hidden><div class=\"sk-item\"><div class=\"sk-estimator sk-toggleable\"><input class=\"sk-toggleable__control sk-hidden--visually\" id=\"sk-estimator-id-1\" type=\"checkbox\" checked><label for=\"sk-estimator-id-1\" class=\"sk-toggleable__label sk-toggleable__label-arrow\">RandomForestClassifier</label><div class=\"sk-toggleable__content\"><pre>RandomForestClassifier(random_state=42)</pre></div></div></div></div></div>"
      ],
      "text/plain": [
       "RandomForestClassifier(random_state=42)"
      ]
     },
     "execution_count": 14,
     "metadata": {},
     "output_type": "execute_result"
    }
   ],
   "source": [
    "\n",
    "rf_classifier = RandomForestClassifier(n_estimators=100, random_state=42)\n",
    "rf_classifier.fit(X_train, y_train)\n",
    "\n"
   ]
  },
  {
   "cell_type": "markdown",
   "id": "27374015",
   "metadata": {
    "papermill": {
     "duration": 0.016415,
     "end_time": "2025-01-09T18:49:59.245483",
     "exception": false,
     "start_time": "2025-01-09T18:49:59.229068",
     "status": "completed"
    },
    "tags": []
   },
   "source": [
    "# Make predictions and evaluate"
   ]
  },
  {
   "cell_type": "code",
   "execution_count": 15,
   "id": "1965ac2a",
   "metadata": {
    "execution": {
     "iopub.execute_input": "2025-01-09T18:49:59.279910Z",
     "iopub.status.busy": "2025-01-09T18:49:59.279673Z",
     "iopub.status.idle": "2025-01-09T18:49:59.530007Z",
     "shell.execute_reply": "2025-01-09T18:49:59.529102Z"
    },
    "papermill": {
     "duration": 0.269308,
     "end_time": "2025-01-09T18:49:59.531465",
     "exception": false,
     "start_time": "2025-01-09T18:49:59.262157",
     "status": "completed"
    },
    "tags": []
   },
   "outputs": [
    {
     "name": "stdout",
     "output_type": "stream",
     "text": [
      "Classification Accuracy: 79.72%\n"
     ]
    }
   ],
   "source": [
    "\n",
    "y_pred = rf_classifier.predict(X_test)\n",
    "accuracy = accuracy_score(y_test, y_pred)\n",
    "print(f\"Classification Accuracy: {accuracy * 100:.2f}%\")\n"
   ]
  }
 ],
 "metadata": {
  "kaggle": {
   "accelerator": "nvidiaTeslaT4",
   "dataSources": [
    {
     "datasetId": 2334639,
     "sourceId": 3932654,
     "sourceType": "datasetVersion"
    }
   ],
   "dockerImageVersionId": 30823,
   "isGpuEnabled": true,
   "isInternetEnabled": true,
   "language": "python",
   "sourceType": "notebook"
  },
  "kernelspec": {
   "display_name": "Python 3",
   "language": "python",
   "name": "python3"
  },
  "language_info": {
   "codemirror_mode": {
    "name": "ipython",
    "version": 3
   },
   "file_extension": ".py",
   "mimetype": "text/x-python",
   "name": "python",
   "nbconvert_exporter": "python",
   "pygments_lexer": "ipython3",
   "version": "3.10.12"
  },
  "papermill": {
   "default_parameters": {},
   "duration": 597.547059,
   "end_time": "2025-01-09T18:50:03.230430",
   "environment_variables": {},
   "exception": null,
   "input_path": "__notebook__.ipynb",
   "output_path": "__notebook__.ipynb",
   "parameters": {},
   "start_time": "2025-01-09T18:40:05.683371",
   "version": "2.6.0"
  }
 },
 "nbformat": 4,
 "nbformat_minor": 5
}
